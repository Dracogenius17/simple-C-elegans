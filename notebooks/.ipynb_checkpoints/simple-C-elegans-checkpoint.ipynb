{
 "cells": [
  {
   "cell_type": "markdown",
   "metadata": {},
   "source": [
    "# Introduction to simple-C-elegans\n",
    "\n",
    "*original available online: https://github.com/adammarblestone/simple-C-elegans/blob/master/SimulateConnectome.py*\n",
    "\n",
    "This is essentially a single python script that simulates the nervous system of the C. elegans; with many caveats known to the authors.  The goal is purposeful simplicity to be able to demonstrate the concepts surrounding simulating a nervous system with a reasonable amount of biological detail.  This walkthrough will explain the simple-C-elegans code and how it works.  \n",
    "\n",
    "A more robust approach is being taken in the OpenWorm project that involves many pieces of infrastructure that are more sophisticated, but also less simple.  Therefore, in addition to explaining how this code works, the larger OpenWorm infrastructure that is responsible for various steps will also be explained along the way."
   ]
  },
  {
   "cell_type": "markdown",
   "metadata": {},
   "source": [
    "First, some practicalities.  The [sci-py libraries](https://www.scipy.org/install.html) are needed to make this run.  One particularly nice setup can be found here: https://github.com/jupyter/docker-stacks/tree/master/scipy-notebook with the setup via Docker.\n",
    "\n",
    "In addition, installing neuroml will be helpful:"
   ]
  },
  {
   "cell_type": "code",
   "execution_count": null,
   "metadata": {
    "collapsed": false
   },
   "outputs": [
    {
     "name": "stdout",
     "output_type": "stream",
     "text": [
      "Hit http://security.debian.org jessie/updates InRelease\n",
      "Get:1 http://security.debian.org jessie/updates/main amd64 Packages [384 kB]\n",
      "Ign http://httpredir.debian.org jessie InRelease\n",
      "Hit http://httpredir.debian.org jessie-updates InRelease\n",
      "Hit http://httpredir.debian.org jessie Release.gpg\n",
      "Hit http://httpredir.debian.org jessie Release\n",
      "Get:2 http://httpredir.debian.org jessie-updates/main amd64 Packages [17.6 kB]\n",
      "Get:3 http://httpredir.debian.org jessie/main amd64 Packages [9,032 kB]\n",
      "Fetched 9,433 kB in 9s (944 kB/s)\n",
      "Reading package lists... Done\n",
      "Reading package lists... Done\n",
      "Building dependency tree       \n",
      "Reading state information... Done\n",
      "Note, selecting 'libxslt1-dev' instead of 'libxslt-dev'\n",
      "Suggested packages:\n",
      "  pkg-config\n",
      "The following NEW packages will be installed:\n",
      "  libxml2-dev libxslt1-dev\n",
      "0 upgraded, 2 newly installed, 0 to remove and 7 not upgraded.\n",
      "Need to get 1,206 kB of archives.\n",
      "After this operation, 5,243 kB of additional disk space will be used.\n",
      "Get:1 http://security.debian.org/ jessie/updates/main libxml2-dev amd64 2.9.1+dfsg1-5+deb8u2 [695 kB]\n",
      "Get:2 http://security.debian.org/ jessie/updates/main libxslt1-dev amd64 1.1.28-2+deb8u1 [511 kB]\n",
      "Fetched 1,206 kB in 0s (8,395 kB/s)\n",
      "debconf: delaying package configuration, since apt-utils is not installed\n",
      "Selecting previously unselected package libxml2-dev:amd64.\n",
      "(Reading database ... 81168 files and directories currently installed.)\n",
      "Preparing to unpack .../libxml2-dev_2.9.1+dfsg1-5+deb8u2_amd64.deb ...\n",
      "Unpacking libxml2-dev:amd64 (2.9.1+dfsg1-5+deb8u2) ...\n",
      "Selecting previously unselected package libxslt1-dev:amd64.\n",
      "Preparing to unpack .../libxslt1-dev_1.1.28-2+deb8u1_amd64.deb ...\n",
      "Unpacking libxslt1-dev:amd64 (1.1.28-2+deb8u1) ...\n",
      "Setting up libxml2-dev:amd64 (2.9.1+dfsg1-5+deb8u2) ...\n",
      "Setting up libxslt1-dev:amd64 (1.1.28-2+deb8u1) ...\n",
      "Collecting libneuroml\n",
      "Collecting lxml (from libneuroml)\n",
      "  Using cached lxml-3.6.1.tar.gz\n",
      "Building wheels for collected packages: lxml\n",
      "  Running setup.py bdist_wheel for lxml ... \u001b[?25l-\b \b\\"
     ]
    }
   ],
   "source": [
    "!sudo apt-get update\n",
    "!sudo apt-get install -y libxml2-dev libxslt-dev\n",
    "!pip install libneuroml"
   ]
  },
  {
   "cell_type": "code",
   "execution_count": 1,
   "metadata": {
    "collapsed": false
   },
   "outputs": [
    {
     "ename": "ImportError",
     "evalue": "No module named neuroml",
     "output_type": "error",
     "traceback": [
      "\u001b[1;31m\u001b[0m",
      "\u001b[1;31mImportError\u001b[0mTraceback (most recent call last)",
      "\u001b[1;32m<ipython-input-1-fe27d4e4b50e>\u001b[0m in \u001b[0;36m<module>\u001b[1;34m()\u001b[0m\n\u001b[1;32m----> 1\u001b[1;33m \u001b[1;32mimport\u001b[0m \u001b[0mneuroml\u001b[0m\u001b[1;33m\u001b[0m\u001b[0m\n\u001b[0m\u001b[0;32m      2\u001b[0m \u001b[1;32mimport\u001b[0m \u001b[0mneuroml\u001b[0m\u001b[1;33m.\u001b[0m\u001b[0mloaders\u001b[0m \u001b[1;32mas\u001b[0m \u001b[0mloaders\u001b[0m\u001b[1;33m\u001b[0m\u001b[0m\n\u001b[0;32m      3\u001b[0m \u001b[1;32mimport\u001b[0m \u001b[0mneuroml\u001b[0m\u001b[1;33m.\u001b[0m\u001b[0mwriters\u001b[0m \u001b[1;32mas\u001b[0m \u001b[0mwriters\u001b[0m\u001b[1;33m\u001b[0m\u001b[0m\n\u001b[0;32m      4\u001b[0m \u001b[1;32mimport\u001b[0m \u001b[0mmatplotlib\u001b[0m\u001b[1;33m.\u001b[0m\u001b[0mpyplot\u001b[0m \u001b[1;32mas\u001b[0m \u001b[0mplt\u001b[0m\u001b[1;33m\u001b[0m\u001b[0m\n\u001b[0;32m      5\u001b[0m \u001b[1;32mfrom\u001b[0m \u001b[0mmpl_toolkits\u001b[0m\u001b[1;33m.\u001b[0m\u001b[0mmplot3d\u001b[0m \u001b[1;32mimport\u001b[0m \u001b[0mAxes3D\u001b[0m\u001b[1;33m\u001b[0m\u001b[0m\n",
      "\u001b[1;31mImportError\u001b[0m: No module named neuroml"
     ]
    }
   ],
   "source": [
    "import neuroml\n",
    "import neuroml.loaders as loaders\n",
    "import neuroml.writers as writers\n",
    "import matplotlib.pyplot as plt\n",
    "from mpl_toolkits.mplot3d import Axes3D\n",
    "import csv\n",
    "from scipy.integrate import odeint\n",
    "import numpy as np\n",
    "import random\n",
    "import matplotlib.animation as animation\n",
    "import time\n",
    "import pickle\n",
    "import os"
   ]
  },
  {
   "cell_type": "code",
   "execution_count": null,
   "metadata": {
    "collapsed": true
   },
   "outputs": [],
   "source": []
  }
 ],
 "metadata": {
  "kernelspec": {
   "display_name": "Python 2",
   "language": "python",
   "name": "python2"
  },
  "language_info": {
   "codemirror_mode": {
    "name": "ipython",
    "version": 2
   },
   "file_extension": ".py",
   "mimetype": "text/x-python",
   "name": "python",
   "nbconvert_exporter": "python",
   "pygments_lexer": "ipython2",
   "version": "2.7.12"
  }
 },
 "nbformat": 4,
 "nbformat_minor": 0
}
