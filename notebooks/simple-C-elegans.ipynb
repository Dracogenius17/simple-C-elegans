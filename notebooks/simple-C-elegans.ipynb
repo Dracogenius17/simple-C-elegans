{
 "cells": [
  {
   "cell_type": "markdown",
   "metadata": {},
   "source": [
    "# Introduction to simple-C-elegans\n",
    "\n",
    "*original available online: https://github.com/adammarblestone/simple-C-elegans/blob/master/SimulateConnectome.py*\n",
    "\n",
    "This is essentially a single python script that simulates the nervous system of the C. elegans; with many caveats known to the authors.  The goal is purposeful simplicity to be able to demonstrate the concepts surrounding simulating a nervous system with a reasonable amount of biological detail.  This walkthrough will explain the simple-C-elegans code and how it works.  \n",
    "\n",
    "A more robust approach is being taken in the OpenWorm project that involves many pieces of infrastructure that are more sophisticated, but also less simple.  Therefore, in addition to explaining how this code works, the larger OpenWorm infrastructure that is responsible for various steps will also be explained along the way.\n",
    "\n",
    "This notebook resides within the repo at https://github.com/openworm/simple-C-elegans/ \n",
    "\n",
    "Original code author: Adam Marblestone\n",
    "\n",
    "Notebook author: Stephen Larson"
   ]
  },
  {
   "cell_type": "markdown",
   "metadata": {},
   "source": [
    "Comments at the top say:\n",
    "    \n",
    ">Simulates the dynamics of part or all of the C. elegans neural network.\n",
    "\n",
    ">This code is *deliberately simple* in order to help the user gain intuition for the qualitative properties of \n",
    "the network dynamics.\n",
    "\n",
    ">Key references include:\n",
    "\n",
    "> 1) Wicks, Stephen R., Chris J. Roehrig, and Catharine H. Rankin. \"A dynamic network simulation of the nematode tap withdrawal circuit: predictions concerning synaptic function using behavioral criteria.\" The Journal of neuroscience 16.12 (1996): 4017-4031. http://www.ncbi.nlm.nih.gov/pubmed/8656295\n",
    "\n",
    "> 2) Kunert, James, Eli Shlizerman, and J. Nathan Kutz. \"Low-dimensional functionality of complex network dynamics: Neurosensory integration in the Caenorhabditis elegans connectome.\" Physical Review E 89.5 (2014): 052805. http://arxiv.org/abs/1310.6689\n",
    "\n",
    ">3) http://www.openworm.org/ and the associated resources"
   ]
  },
  {
   "cell_type": "markdown",
   "metadata": {},
   "source": [
    "First, some practicalities.  The [sci-py libraries](https://www.scipy.org/install.html) are needed to make this run.  One particularly nice setup can be found here: https://github.com/jupyter/docker-stacks/tree/master/scipy-notebook with the setup via Docker.\n",
    "\n",
    "In addition, installing neuroml will be helpful:"
   ]
  },
  {
   "cell_type": "code",
   "execution_count": 9,
   "metadata": {
    "collapsed": false
   },
   "outputs": [
    {
     "name": "stdout",
     "output_type": "stream",
     "text": [
      "Hit http://security.debian.org jessie/updates InRelease\n",
      "Get:1 http://security.debian.org jessie/updates/main amd64 Packages [384 kB]\n",
      "Ign http://httpredir.debian.org jessie InRelease\n",
      "Hit http://httpredir.debian.org jessie-updates InRelease\n",
      "Hit http://httpredir.debian.org jessie Release.gpg\n",
      "Get:2 http://httpredir.debian.org jessie-updates/main amd64 Packages [17.6 kB]\n",
      "Hit http://httpredir.debian.org jessie Release\n",
      "Get:3 http://httpredir.debian.org jessie/main amd64 Packages [9,032 kB]\n",
      "Fetched 9,433 kB in 7s (1,197 kB/s)\n",
      "Reading package lists... Done\n",
      "Reading package lists... Done\n",
      "Building dependency tree       \n",
      "Reading state information... Done\n",
      "Note, selecting 'libxslt1-dev' instead of 'libxslt-dev'\n",
      "libxml2-dev is already the newest version.\n",
      "libxslt1-dev is already the newest version.\n",
      "0 upgraded, 0 newly installed, 0 to remove and 7 not upgraded.\n",
      "Collecting libneuroml\n",
      "  Using cached libNeuroML-0.2.18.tar.gz\n",
      "Collecting lxml (from libneuroml)\n",
      "  Using cached lxml-3.6.1.tar.gz\n",
      "Building wheels for collected packages: libneuroml, lxml\n",
      "  Running setup.py bdist_wheel for libneuroml ... \u001b[?25l-\b \b\\\b \bdone\n",
      "\u001b[?25h  Stored in directory: /home/jovyan/.cache/pip/wheels/2e/bd/8e/ce350709345890d9f5e953bf65e51ad1697006ec477cdce60d\n",
      "  Running setup.py bdist_wheel for lxml ... \u001b[?25l-\b \b\\\b \b|\b \b/\b \b-\b \b\\\b \b|\b \b/\b \bdone\n",
      "\u001b[?25h  Stored in directory: /home/jovyan/.cache/pip/wheels/17/94/a6/15a37329ef31420b401015e9929e55dc882a9346efadd27d48\n",
      "Successfully built libneuroml lxml\n",
      "Installing collected packages: lxml, libneuroml\n",
      "Successfully installed libneuroml-0.2.18 lxml-3.6.1\n"
     ]
    }
   ],
   "source": [
    "!sudo apt-get update\n",
    "!sudo apt-get install -y libxml2-dev libxslt-dev\n",
    "!pip2 install libneuroml"
   ]
  },
  {
   "cell_type": "markdown",
   "metadata": {},
   "source": [
    "After these installs, now the imports from the script should work:"
   ]
  },
  {
   "cell_type": "code",
   "execution_count": 10,
   "metadata": {
    "collapsed": false
   },
   "outputs": [
    {
     "name": "stderr",
     "output_type": "stream",
     "text": [
      "/opt/conda/envs/python2/lib/python2.7/site-packages/matplotlib/font_manager.py:273: UserWarning: Matplotlib is building the font cache using fc-list. This may take a moment.\n",
      "  warnings.warn('Matplotlib is building the font cache using fc-list. This may take a moment.')\n"
     ]
    }
   ],
   "source": [
    "import neuroml\n",
    "import neuroml.loaders as loaders\n",
    "import neuroml.writers as writers\n",
    "import matplotlib.pyplot as plt\n",
    "from mpl_toolkits.mplot3d import Axes3D\n",
    "import csv\n",
    "from scipy.integrate import odeint\n",
    "import numpy as np\n",
    "import random\n",
    "import matplotlib.animation as animation\n",
    "import time\n",
    "import pickle\n",
    "import os"
   ]
  },
  {
   "cell_type": "markdown",
   "metadata": {},
   "source": [
    "Seems like a switch to archive stuff or not.  Not sure why this isn't always true (probably takes more time)."
   ]
  },
  {
   "cell_type": "code",
   "execution_count": 12,
   "metadata": {
    "collapsed": true
   },
   "outputs": [],
   "source": [
    "usePickle = False"
   ]
  },
  {
   "cell_type": "markdown",
   "metadata": {},
   "source": [
    "## Connectome parameters."
   ]
  },
  {
   "cell_type": "code",
   "execution_count": 13,
   "metadata": {
    "collapsed": true
   },
   "outputs": [],
   "source": [
    "connectome_spreadsheet = \"OpenWorm/connectome.csv\"\n",
    "\n",
    "# all the neurons\n",
    "all_the_cell_names = [\"ADAL\",\"ADAR\",\"ADEL\",\"ADER\",\"ADFL\",\"ADFR\",\"ADLL\",\"ADLR\",\"AFDL\",\"AFDR\",\"AIAL\",\"AIAR\",\"AIBL\",\"AIBR\",\"AIML\",\"AIMR\",\"AINL\",\"AINR\",\"AIYL\",\"AIYR\",\"AIZL\",\"AIZR\",\"ALA\",\"ALML\",\"ALMR\",\"ALNL\",\"ALNR\",\"AQR\",\"AS1\",\"AS2\",\"AS3\",\"AS4\",\"AS5\",\"AS6\",\"AS7\",\"AS8\",\"AS9\",\"AS10\",\"AS11\",\"ASEL\",\"ASER\",\"ASGL\",\"ASGR\",\"ASHL\",\"ASHR\",\"ASIL\",\"ASIR\",\"ASJL\",\"ASJR\",\"ASKL\",\"ASKR\",\"AUAL\",\"AUAR\",\"AVAL\",\"AVAR\",\"AVBL\",\"AVBR\",\"AVDL\",\"AVDR\",\"AVEL\",\"AVER\",\"AVFL\",\"AVFR\",\"AVG\",\"AVHL\",\"AVHR\",\"AVJL\",\"AVJR\",\"AVKL\",\"AVKR\",\"AVL\",\"AVM\",\"AWAL\",\"AWAR\",\"AWBL\",\"AWBR\",\"AWCL\",\"AWCR\",\"BAGL\",\"BAGR\",\"BDUL\",\"BDUR\",\"CEPDL\",\"CEPDR\",\"CEPVL\",\"CEPVR\",\"DA1\",\"DA2\",\"DA3\",\"DA4\",\"DA5\",\"DA6\",\"DA7\",\"DA8\",\"DA9\",\"DB1\",\"DB2\",\"DB3\",\"DB4\",\"DB5\",\"DB6\",\"DB7\",\"DD1\",\"DD2\",\"DD3\",\"DD4\",\"DD5\",\"DD6\",\"DVA\",\"DVB\",\"DVC\",\"FLPL\",\"FLPR\",\"HSNL\",\"HSNR\",\"I1L\",\"I1R\",\"I2L\",\"I2R\",\"I3\",\"I4\",\"I5\",\"I6\",\"IL1DL\",\"IL1DR\",\"IL1L\",\"IL1R\",\"IL1VL\",\"IL1VR\",\"IL2DL\",\"IL2DR\",\"IL2L\",\"IL2R\",\"IL2VL\",\"IL2VR\",\"LUAL\",\"LUAR\",\"M1\",\"M2L\",\"M2R\",\"M3L\",\"M3R\",\"M4\",\"M5\",\"MCL\",\"MCR\",\"MI\",\"NSML\",\"NSMR\",\"OLLL\",\"OLLR\",\"OLQDL\",\"OLQDR\",\"OLQVL\",\"OLQVR\",\"PDA\",\"PDB\",\"PDEL\",\"PDER\",\"PHAL\",\"PHAR\",\"PHBL\",\"PHBR\",\"PHCL\",\"PHCR\",\"PLML\",\"PLMR\",\"PLNL\",\"PLNR\",\"PQR\",\"PVCL\",\"PVCR\",\"PVDL\",\"PVDR\",\"PVM\",\"PVNL\",\"PVNR\",\"PVPL\",\"PVPR\",\"PVQL\",\"PVQR\",\"PVR\",\"PVT\",\"PVWL\",\"PVWR\",\"RIAL\",\"RIAR\",\"RIBL\",\"RIBR\",\"RICL\",\"RICR\",\"RID\",\"RIFL\",\"RIFR\",\"RIGL\",\"RIGR\",\"RIH\",\"RIML\",\"RIMR\",\"RIPL\",\"RIPR\",\"RIR\",\"RIS\",\"RIVL\",\"RIVR\",\"RMDDL\",\"RMDDR\",\"RMDL\",\"RMDR\",\"RMDVL\",\"RMDVR\",\"RMED\",\"RMEL\",\"RMER\",\"RMEV\",\"RMFL\",\"RMFR\",\"RMGL\",\"RMGR\",\"RMHL\",\"RMHR\",\"SAADL\",\"SAADR\",\"SAAVL\",\"SAAVR\",\"SABD\",\"SABVL\",\"SABVR\",\"SDQL\",\"SDQR\",\"SIADL\",\"SIADR\",\"SIAVL\",\"SIAVR\",\"SIBDL\",\"SIBDR\",\"SIBVL\",\"SIBVR\",\"SMBDL\",\"SMBDR\",\"SMBVL\",\"SMBVR\",\"SMDDL\",\"SMDDR\",\"SMDVL\",\"SMDVR\",\"URADL\",\"URADR\",\"URAVL\",\"URAVR\",\"URBL\",\"URBR\",\"URXL\",\"URXR\",\"URYDL\",\"URYDR\",\"URYVL\",\"URYVR\",\"VA1\",\"VA2\",\"VA3\",\"VA4\",\"VA5\",\"VA6\",\"VA7\",\"VA8\",\"VA9\",\"VA10\",\"VA11\",\"VA12\",\"VB1\",\"VB2\",\"VB3\",\"VB4\",\"VB5\",\"VB6\",\"VB7\",\"VB8\",\"VB9\",\"VB10\",\"VB11\", \"VC1\", \"VC2\", \"VC3\",\"VC4\",\"VC5\", \"VD1\", \"VD2\", \"VD3\", \"VD4\", \"VD5\", \"VD6\", \"VD7\", \"VD8\", \"VD9\", \"VD10\", \"VD11\", \"VD12\", \"VD13\"] \n",
    "\n",
    "# just the core sensory + interneuron circuit from Wicks + forward motor neurons: DA, VA and AS would need to be added for backwards motion\n",
    "# all_the_cell_names = [\"AVM\", \"AVDL\",\"AVDR\", \"AVAL\",\"AVAR\",\"AVBL\",\"AVBR\",\"ALML\",\"ALMR\",\"PLML\",\"PLMR\",\"PVCL\",\"PVCR\",\"PVDL\",\"PVDR\",\"DVA\",\"DB1\",\"DB2\",\"DB3\",\"DB4\",\"DB5\",\"DB6\",\"DB7\",\"DD1\",\"DD2\",\"DD3\",\"DD4\",\"DD5\",\"DD6\",\"VB1\",\"VB2\",\"VB3\",\"VB4\",\"VB5\",\"VB6\",\"VB7\",\"VB8\",\"VB9\", \"VB10\",\"VB11\", \"VD1\", \"VD2\", \"VD3\", \"VD4\", \"VD5\", \"VD6\", \"VD7\", \"VD8\", \"VD9\", \"VD10\", \"VD11\", \"VD12\", \"VD13\"] \n",
    "\n",
    "# just the core sensory + interneuron circuit from Wicks\n",
    "# all_the_cell_names = [\"AVM\", \"AVDL\",\"AVDR\", \"AVAL\",\"AVAR\",\"AVBL\",\"AVBR\",\"ALML\",\"ALMR\",\"PLML\",\"PLMR\",\"PVCL\",\"PVCR\",\"PVDL\",\"PVDR\",\"DVA\"] \n",
    "\n",
    "# core sensory + interneuron circuit from Wicks + LUAL and LUAR which the Hiroshima group uses: http://www.bsys.hiroshima-u.ac.jp/pub/pdf/J/J_153.pdf\n",
    "# all_the_cell_names = [\"AVM\", \"AVDL\",\"AVDR\", \"AVAL\",\"AVAR\",\"AVBL\",\"AVBR\",\"ALML\",\"ALMR\",\"PLML\",\"PLMR\",\"PVCL\",\"PVCR\",\"PVDL\",\"PVDR\",\"DVA\",\"LUAL\",\"LUAR\"] \n",
    "\n",
    "# core sensory + interneuron  circuit + LUAL and LUAR + forward motor neurons\n",
    "#all_the_cell_names = [\"AVM\", \"AVDL\",\"AVDR\", \"AVAL\",\"AVAR\",\"AVBL\",\"AVBR\",\"ALML\",\"ALMR\",\"PLML\",\"PLMR\",\"PVCL\",\"PVCR\",\"PVDL\",\"PVDR\",\"DVA\",\"LUAL\",\"LUAR\", \"DB1\",\"DB2\",\"DB3\",\"DB4\",\"DB5\",\"DB6\",\"DB7\",\"DD1\",\"DD2\",\"DD3\",\"DD4\",\"DD5\",\"DD6\",\"VB1\",\"VB2\",\"VB3\",\"VB4\",\"VB5\",\"VB6\",\"VB7\",\"VB8\",\"VB9\", \"VB10\",\"VB11\", \"VD1\", \"VD2\", \"VD3\", \"VD4\", \"VD5\", \"VD6\", \"VD7\", \"VD8\", \"VD9\", \"VD10\", \"VD11\", \"VD12\", \"VD13\"] \n",
    "\n",
    "# core sensory + interneuron  circuit from Wicks + LUAL and LUAR + forward motor neurons + backwards motor neurons\n",
    "# all_the_cell_names = [\"AVM\", \"AVDL\",\"AVDR\", \"AVAL\",\"AVAR\",\"AVBL\",\"AVBR\",\"ALML\",\"ALMR\",\"PLML\",\"PLMR\",\"PVCL\",\"PVCR\",\"PVDL\",\"PVDR\",\"DVA\",\"LUAL\",\"LUAR\", \"DB1\",\"DB2\",\"DB3\",\"DB4\",\"DB5\",\"DB6\",\"DB7\",\"DD1\",\"DD2\",\"DD3\",\"DD4\",\"DD5\",\"DD6\",\"VB1\",\"VB2\",\"VB3\",\"VB4\",\"VB5\",\"VB6\",\"VB7\",\"VB8\",\"VB9\", \"VB10\",\"VB11\", \"VD1\", \"VD2\", \"VD3\", \"VD4\", \"VD5\", \"VD6\", \"VD7\", \"VD8\", \"VD9\", \"VD10\", \"VD11\", \"VD12\", \"VD13\", \"DA1\",\"DA2\",\"DA3\",\"DA4\",\"DA5\",\"DA6\",\"DA7\",\"DA8\",\"DA9\",\"VA1\",\"VA2\",\"VA3\",\"VA4\",\"VA5\",\"VA6\",\"VA7\",\"VA8\",\"VA9\",\"VA10\",\"VA11\",\"VA12\", \"AS1\",\"AS2\",\"AS3\",\"AS4\",\"AS5\",\"AS6\",\"AS7\",\"AS8\",\"AS9\",\"AS10\",\"AS11\"]\n",
    "\n",
    "l = len(all_the_cell_names)\n",
    "indices = range(l)\n",
    "\n",
    "coords = [] # list of 3D coordinates of all the neurons\n",
    "cells_connections = {} # synaptic\n",
    "cells_gaps = {} # gap junctional\n",
    "\n",
    "connection_nums = {} # synaptic connection nums dict\n",
    "gap_nums = {} # gap junction connection nums dict\n",
    "\n",
    "GABA_adjacency = {} # synaptic connection nums dict specific to GABA\n",
    "Chol_adjacency = {} # synaptic connection nums dict specific to Acetylcholine\n",
    "Glut_adjacency = {} # synaptic connection nums dict specific to Glutamate\n",
    "Other_adjacency = {} # synaptic connection nums dict specific to Other\n",
    "GABA_Chol_Glut_adjacency = {} # synaptic connection nums dict including everything except \"Other\"\n",
    "\n",
    "GABA_expressing = [] # list of pre-synaptic cells expressing GABA\n",
    "Cholinergic = [] # list of pre-synaptic cells expressing Acetylcholine\n",
    "Glutamatergic = [] # list of pre-synaptic cells expressing Glutamate\n",
    "labeled_neuron = \"PLML\" # give a particular neuron a different color\n",
    "coords_of_labeled_neuron = (None, None, None)\n",
    "\n",
    "'''Simulation parameters'''\n",
    "# params of the simulation\n",
    "I_ext_magnitude = 0.5 * 1e-12 # external current in units of Amperes\n",
    "stim_dur = 0.5\n",
    "stim_start = 0.5\n",
    "start_time = 0.0\n",
    "end_time = 1.5\n",
    "I_ext_mask = [1.0 if all_the_cell_names[i] in [\"PLML\", \"PLMR\"] else 0.0 for i in indices] # which neurons get external current input\n",
    "\n",
    "'''Dynamical parameters.'''\n",
    "enhanced_synaptic_steepness = 8.0 # Important -- set this to > 1 to increase the nonlinearity: it appears to be effectively set to 1.0, however, in the Kunert and Wicks papers\n",
    "K = -4.39 * enhanced_synaptic_steepness # pre-factor in the exponential synapse activation\n",
    "G_c = 100.0 * 1e-12 # cell membrane conductance (S)\n",
    "C = 10.0 * 1e-12 # cell membrane capacitance (F)\n",
    "g_syn = 10.0 * 1e-12 # synaptic conductance (S)\n",
    "g_gap = 5.0 * 1e-12 # gap junctional conductance (S)\n",
    "G_c_over_C = G_c/C\n",
    "g_syn_over_C = g_syn/C\n",
    "g_gap_over_C = g_gap/C\n",
    "E_c = [-35.0 * 1e-3 for i in indices] # -35 mV leakage potentials\n",
    "V_range = 35.0 * 1e-3 # 35 mV range\n",
    "relative_GABA = 0.5 # relative strength of GABA compared to Glut and Chol synapses"
   ]
  },
  {
   "cell_type": "markdown",
   "metadata": {},
   "source": [
    "## Main loop"
   ]
  },
  {
   "cell_type": "code",
   "execution_count": null,
   "metadata": {
    "collapsed": true
   },
   "outputs": [],
   "source": [
    "def main():          \n",
    "    # get each cell's soma coords\n",
    "    importData()\n",
    "    \n",
    "    # read connectivity data\n",
    "    readSynapticConnectome()\n",
    "    readGapConnectome()\n",
    "    \n",
    "    # plot the connectome in 3D\n",
    "    plotConnectomeIn3D()\n",
    "    \n",
    "    # plot adjacency matrices\n",
    "    buildAdjacency()\n",
    "    plotAdjacency()\n",
    "    \n",
    "    # calculate IV curves: this takes a long time so it is usually commented\n",
    "    # plotIVcurves()\n",
    "    \n",
    "    # integrate the ODEs\n",
    "    soln = integrateODEs(1)\n",
    "    \n",
    "    # plot the states of the synaptic parameters\n",
    "    fig = plt.figure()\n",
    "    plt.xlabel(\"Voltage (V)\")\n",
    "    plt.ylabel(\"Relative pre-synaptic activation || Time (au)\")\n",
    "    plt.title(\"Comparison of voltages to synaptic activations\")\n",
    "    V_eq = findEquilibriumPotentials()\n",
    "    V_vals_to_plot = np.linspace(-50 * 1e-3, 0.0 * 1e-3, num = 100, endpoint = True)\n",
    "    for k in indices:\n",
    "        plt.plot(V_vals_to_plot, [1.0/(1+np.exp(K*(V_vals_to_plot[i] - V_eq[k])/V_range)) for i in range(len(V_vals_to_plot))], color='r')\n",
    "        \n",
    "    for i in indices:\n",
    "        plt.plot([float(p) for p in soln[:,i]], [1*float(p)/len(soln[:,i]) for p in range(len(soln[:,i]))], color = 'k')\n",
    "    \n",
    "    # calculate Jacobian\n",
    "    calculateJacobian(soln)\n",
    "    \n",
    "    # run SVD\n",
    "    if len(all_the_cell_names) > 18: # this IF statement just checks to be sure there are motor neurons in the simulation to run SVD on!\n",
    "        runSVD(soln)\n",
    "    \n",
    "    # set up plots for the animation\n",
    "    #setupAnimation(soln)\n",
    "    \n",
    "    # show the plots\n",
    "    plt.show()"
   ]
  }
 ],
 "metadata": {
  "kernelspec": {
   "display_name": "Python 2",
   "language": "python",
   "name": "python2"
  },
  "language_info": {
   "codemirror_mode": {
    "name": "ipython",
    "version": 2
   },
   "file_extension": ".py",
   "mimetype": "text/x-python",
   "name": "python",
   "nbconvert_exporter": "python",
   "pygments_lexer": "ipython2",
   "version": "2.7.12"
  }
 },
 "nbformat": 4,
 "nbformat_minor": 0
}
