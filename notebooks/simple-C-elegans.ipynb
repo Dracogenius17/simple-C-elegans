{
 "cells": [
  {
   "cell_type": "markdown",
   "metadata": {},
   "source": [
    "# Introduction to simple-C-elegans\n",
    "\n",
    "*original available online: https://github.com/adammarblestone/simple-C-elegans/blob/master/SimulateConnectome.py*\n",
    "\n",
    "This is essentially a single python script that simulates the nervous system of the C. elegans; with many caveats known to the authors.  The goal is purposeful simplicity to be able to demonstrate the concepts surrounding simulating a nervous system with a reasonable amount of biological detail.  This walkthrough will explain the simple-C-elegans code and how it works.  \n",
    "\n",
    "A more robust approach is being taken in the OpenWorm project that involves many pieces of infrastructure that are more sophisticated, but also less simple.  Therefore, in addition to explaining how this code works, the larger OpenWorm infrastructure that is responsible for various steps will also be explained along the way.\n",
    "\n",
    "This notebook resides within the repo at https://github.com/openworm/simple-C-elegans/ \n",
    "\n",
    "Original code author: Adam Marblestone\n",
    "\n",
    "Notebook author: Stephen Larson"
   ]
  },
  {
   "cell_type": "markdown",
   "metadata": {},
   "source": [
    "Comments at the top say:\n",
    "    \n",
    ">Simulates the dynamics of part or all of the C. elegans neural network.\n",
    "\n",
    ">This code is *deliberately simple* in order to help the user gain intuition for the qualitative properties of \n",
    "the network dynamics.\n",
    "\n",
    ">Key references include:\n",
    "\n",
    "> 1) Wicks, Stephen R., Chris J. Roehrig, and Catharine H. Rankin. \"A dynamic network simulation of the nematode tap withdrawal circuit: predictions concerning synaptic function using behavioral criteria.\" The Journal of neuroscience 16.12 (1996): 4017-4031. http://www.ncbi.nlm.nih.gov/pubmed/8656295\n",
    "\n",
    "> 2) Kunert, James, Eli Shlizerman, and J. Nathan Kutz. \"Low-dimensional functionality of complex network dynamics: Neurosensory integration in the Caenorhabditis elegans connectome.\" Physical Review E 89.5 (2014): 052805. http://arxiv.org/abs/1310.6689\n",
    "\n",
    ">3) http://www.openworm.org/ and the associated resources"
   ]
  },
  {
   "cell_type": "markdown",
   "metadata": {},
   "source": [
    "First, some practicalities.  The [sci-py libraries](https://www.scipy.org/install.html) are needed to make this run.  One particularly nice setup can be found here: https://github.com/jupyter/docker-stacks/tree/master/scipy-notebook with the setup via Docker.\n",
    "\n",
    "In addition, installing neuroml will be helpful:"
   ]
  },
  {
   "cell_type": "code",
   "execution_count": 9,
   "metadata": {
    "collapsed": false
   },
   "outputs": [
    {
     "name": "stdout",
     "output_type": "stream",
     "text": [
      "Hit http://security.debian.org jessie/updates InRelease\n",
      "Get:1 http://security.debian.org jessie/updates/main amd64 Packages [384 kB]\n",
      "Ign http://httpredir.debian.org jessie InRelease\n",
      "Hit http://httpredir.debian.org jessie-updates InRelease\n",
      "Hit http://httpredir.debian.org jessie Release.gpg\n",
      "Get:2 http://httpredir.debian.org jessie-updates/main amd64 Packages [17.6 kB]\n",
      "Hit http://httpredir.debian.org jessie Release\n",
      "Get:3 http://httpredir.debian.org jessie/main amd64 Packages [9,032 kB]\n",
      "Fetched 9,433 kB in 7s (1,197 kB/s)\n",
      "Reading package lists... Done\n",
      "Reading package lists... Done\n",
      "Building dependency tree       \n",
      "Reading state information... Done\n",
      "Note, selecting 'libxslt1-dev' instead of 'libxslt-dev'\n",
      "libxml2-dev is already the newest version.\n",
      "libxslt1-dev is already the newest version.\n",
      "0 upgraded, 0 newly installed, 0 to remove and 7 not upgraded.\n",
      "Collecting libneuroml\n",
      "  Using cached libNeuroML-0.2.18.tar.gz\n",
      "Collecting lxml (from libneuroml)\n",
      "  Using cached lxml-3.6.1.tar.gz\n",
      "Building wheels for collected packages: libneuroml, lxml\n",
      "  Running setup.py bdist_wheel for libneuroml ... \u001b[?25l-\b \b\\\b \bdone\n",
      "\u001b[?25h  Stored in directory: /home/jovyan/.cache/pip/wheels/2e/bd/8e/ce350709345890d9f5e953bf65e51ad1697006ec477cdce60d\n",
      "  Running setup.py bdist_wheel for lxml ... \u001b[?25l-\b \b\\\b \b|\b \b/\b \b-\b \b\\\b \b|\b \b/\b \bdone\n",
      "\u001b[?25h  Stored in directory: /home/jovyan/.cache/pip/wheels/17/94/a6/15a37329ef31420b401015e9929e55dc882a9346efadd27d48\n",
      "Successfully built libneuroml lxml\n",
      "Installing collected packages: lxml, libneuroml\n",
      "Successfully installed libneuroml-0.2.18 lxml-3.6.1\n"
     ]
    }
   ],
   "source": [
    "!sudo apt-get update\n",
    "!sudo apt-get install -y libxml2-dev libxslt-dev\n",
    "!pip2 install libneuroml"
   ]
  },
  {
   "cell_type": "markdown",
   "metadata": {},
   "source": [
    "After these installs, now the imports from the script should work:"
   ]
  },
  {
   "cell_type": "code",
   "execution_count": 10,
   "metadata": {
    "collapsed": false
   },
   "outputs": [
    {
     "name": "stderr",
     "output_type": "stream",
     "text": [
      "/opt/conda/envs/python2/lib/python2.7/site-packages/matplotlib/font_manager.py:273: UserWarning: Matplotlib is building the font cache using fc-list. This may take a moment.\n",
      "  warnings.warn('Matplotlib is building the font cache using fc-list. This may take a moment.')\n"
     ]
    }
   ],
   "source": [
    "import neuroml\n",
    "import neuroml.loaders as loaders\n",
    "import neuroml.writers as writers\n",
    "import matplotlib.pyplot as plt\n",
    "from mpl_toolkits.mplot3d import Axes3D\n",
    "import csv\n",
    "from scipy.integrate import odeint\n",
    "import numpy as np\n",
    "import random\n",
    "import matplotlib.animation as animation\n",
    "import time\n",
    "import pickle\n",
    "import os"
   ]
  },
  {
   "cell_type": "markdown",
   "metadata": {},
   "source": [
    "Seems like a switch to archive stuff or not.  Not sure why this isn't always true (probably takes more time)."
   ]
  },
  {
   "cell_type": "code",
   "execution_count": 12,
   "metadata": {
    "collapsed": true
   },
   "outputs": [],
   "source": [
    "usePickle = False"
   ]
  },
  {
   "cell_type": "markdown",
   "metadata": {},
   "source": [
    "## Connectome parameters.\n",
    "\n",
    "In this section, we begin by creating a variable, `all_the_cell_names`, which will consist of the neurons in the C. elegans nervous system that will be of interest to simulate.\n",
    "\n",
    "The code begins by defining the location of the `connectome_spreadsheet`, which is a CSV file that has the connections of the c. elegans in it, based on [work by White et al. 1986](http://rstb.royalsocietypublishing.org/cgi/doi/10.1098/rstb.1986.0056)"
   ]
  },
  {
   "cell_type": "code",
   "execution_count": null,
   "metadata": {
    "collapsed": true
   },
   "outputs": [],
   "source": [
    "connectome_spreadsheet = \"OpenWorm/connectome.csv\"\n",
    "\n",
    "# all the neurons\n",
    "all_the_cell_names = [\"ADAL\",\"ADAR\",\"ADEL\",\"ADER\",\"ADFL\",\"ADFR\",\"ADLL\",\"ADLR\",\"AFDL\",\"AFDR\",\"AIAL\",\"AIAR\",\"AIBL\",\"AIBR\",\"AIML\",\"AIMR\",\"AINL\",\"AINR\",\"AIYL\",\"AIYR\",\"AIZL\",\"AIZR\",\"ALA\",\"ALML\",\"ALMR\",\"ALNL\",\"ALNR\",\"AQR\",\"AS1\",\"AS2\",\"AS3\",\"AS4\",\"AS5\",\"AS6\",\"AS7\",\"AS8\",\"AS9\",\"AS10\",\"AS11\",\"ASEL\",\"ASER\",\"ASGL\",\"ASGR\",\"ASHL\",\"ASHR\",\"ASIL\",\"ASIR\",\"ASJL\",\"ASJR\",\"ASKL\",\"ASKR\",\"AUAL\",\"AUAR\",\"AVAL\",\"AVAR\",\"AVBL\",\"AVBR\",\"AVDL\",\"AVDR\",\"AVEL\",\"AVER\",\"AVFL\",\"AVFR\",\"AVG\",\"AVHL\",\"AVHR\",\"AVJL\",\"AVJR\",\"AVKL\",\"AVKR\",\"AVL\",\"AVM\",\"AWAL\",\"AWAR\",\"AWBL\",\"AWBR\",\"AWCL\",\"AWCR\",\"BAGL\",\"BAGR\",\"BDUL\",\"BDUR\",\"CEPDL\",\"CEPDR\",\"CEPVL\",\"CEPVR\",\"DA1\",\"DA2\",\"DA3\",\"DA4\",\"DA5\",\"DA6\",\"DA7\",\"DA8\",\"DA9\",\"DB1\",\"DB2\",\"DB3\",\"DB4\",\"DB5\",\"DB6\",\"DB7\",\"DD1\",\"DD2\",\"DD3\",\"DD4\",\"DD5\",\"DD6\",\"DVA\",\"DVB\",\"DVC\",\"FLPL\",\"FLPR\",\"HSNL\",\"HSNR\",\"I1L\",\"I1R\",\"I2L\",\"I2R\",\"I3\",\"I4\",\"I5\",\"I6\",\"IL1DL\",\"IL1DR\",\"IL1L\",\"IL1R\",\"IL1VL\",\"IL1VR\",\"IL2DL\",\"IL2DR\",\"IL2L\",\"IL2R\",\"IL2VL\",\"IL2VR\",\"LUAL\",\"LUAR\",\"M1\",\"M2L\",\"M2R\",\"M3L\",\"M3R\",\"M4\",\"M5\",\"MCL\",\"MCR\",\"MI\",\"NSML\",\"NSMR\",\"OLLL\",\"OLLR\",\"OLQDL\",\"OLQDR\",\"OLQVL\",\"OLQVR\",\"PDA\",\"PDB\",\"PDEL\",\"PDER\",\"PHAL\",\"PHAR\",\"PHBL\",\"PHBR\",\"PHCL\",\"PHCR\",\"PLML\",\"PLMR\",\"PLNL\",\"PLNR\",\"PQR\",\"PVCL\",\"PVCR\",\"PVDL\",\"PVDR\",\"PVM\",\"PVNL\",\"PVNR\",\"PVPL\",\"PVPR\",\"PVQL\",\"PVQR\",\"PVR\",\"PVT\",\"PVWL\",\"PVWR\",\"RIAL\",\"RIAR\",\"RIBL\",\"RIBR\",\"RICL\",\"RICR\",\"RID\",\"RIFL\",\"RIFR\",\"RIGL\",\"RIGR\",\"RIH\",\"RIML\",\"RIMR\",\"RIPL\",\"RIPR\",\"RIR\",\"RIS\",\"RIVL\",\"RIVR\",\"RMDDL\",\"RMDDR\",\"RMDL\",\"RMDR\",\"RMDVL\",\"RMDVR\",\"RMED\",\"RMEL\",\"RMER\",\"RMEV\",\"RMFL\",\"RMFR\",\"RMGL\",\"RMGR\",\"RMHL\",\"RMHR\",\"SAADL\",\"SAADR\",\"SAAVL\",\"SAAVR\",\"SABD\",\"SABVL\",\"SABVR\",\"SDQL\",\"SDQR\",\"SIADL\",\"SIADR\",\"SIAVL\",\"SIAVR\",\"SIBDL\",\"SIBDR\",\"SIBVL\",\"SIBVR\",\"SMBDL\",\"SMBDR\",\"SMBVL\",\"SMBVR\",\"SMDDL\",\"SMDDR\",\"SMDVL\",\"SMDVR\",\"URADL\",\"URADR\",\"URAVL\",\"URAVR\",\"URBL\",\"URBR\",\"URXL\",\"URXR\",\"URYDL\",\"URYDR\",\"URYVL\",\"URYVR\",\"VA1\",\"VA2\",\"VA3\",\"VA4\",\"VA5\",\"VA6\",\"VA7\",\"VA8\",\"VA9\",\"VA10\",\"VA11\",\"VA12\",\"VB1\",\"VB2\",\"VB3\",\"VB4\",\"VB5\",\"VB6\",\"VB7\",\"VB8\",\"VB9\",\"VB10\",\"VB11\", \"VC1\", \"VC2\", \"VC3\",\"VC4\",\"VC5\", \"VD1\", \"VD2\", \"VD3\", \"VD4\", \"VD5\", \"VD6\", \"VD7\", \"VD8\", \"VD9\", \"VD10\", \"VD11\", \"VD12\", \"VD13\"] \n",
    "\n",
    "# just the core sensory + interneuron circuit from Wicks + forward motor neurons: DA, VA and AS would need to be added for backwards motion\n",
    "# all_the_cell_names = [\"AVM\", \"AVDL\",\"AVDR\", \"AVAL\",\"AVAR\",\"AVBL\",\"AVBR\",\"ALML\",\"ALMR\",\"PLML\",\"PLMR\",\"PVCL\",\"PVCR\",\"PVDL\",\"PVDR\",\"DVA\",\"DB1\",\"DB2\",\"DB3\",\"DB4\",\"DB5\",\"DB6\",\"DB7\",\"DD1\",\"DD2\",\"DD3\",\"DD4\",\"DD5\",\"DD6\",\"VB1\",\"VB2\",\"VB3\",\"VB4\",\"VB5\",\"VB6\",\"VB7\",\"VB8\",\"VB9\", \"VB10\",\"VB11\", \"VD1\", \"VD2\", \"VD3\", \"VD4\", \"VD5\", \"VD6\", \"VD7\", \"VD8\", \"VD9\", \"VD10\", \"VD11\", \"VD12\", \"VD13\"] \n",
    "\n",
    "# just the core sensory + interneuron circuit from Wicks\n",
    "# all_the_cell_names = [\"AVM\", \"AVDL\",\"AVDR\", \"AVAL\",\"AVAR\",\"AVBL\",\"AVBR\",\"ALML\",\"ALMR\",\"PLML\",\"PLMR\",\"PVCL\",\"PVCR\",\"PVDL\",\"PVDR\",\"DVA\"] \n",
    "\n",
    "# core sensory + interneuron circuit from Wicks + LUAL and LUAR which the Hiroshima group uses: http://www.bsys.hiroshima-u.ac.jp/pub/pdf/J/J_153.pdf\n",
    "# all_the_cell_names = [\"AVM\", \"AVDL\",\"AVDR\", \"AVAL\",\"AVAR\",\"AVBL\",\"AVBR\",\"ALML\",\"ALMR\",\"PLML\",\"PLMR\",\"PVCL\",\"PVCR\",\"PVDL\",\"PVDR\",\"DVA\",\"LUAL\",\"LUAR\"] \n",
    "\n",
    "# core sensory + interneuron  circuit + LUAL and LUAR + forward motor neurons\n",
    "#all_the_cell_names = [\"AVM\", \"AVDL\",\"AVDR\", \"AVAL\",\"AVAR\",\"AVBL\",\"AVBR\",\"ALML\",\"ALMR\",\"PLML\",\"PLMR\",\"PVCL\",\"PVCR\",\"PVDL\",\"PVDR\",\"DVA\",\"LUAL\",\"LUAR\", \"DB1\",\"DB2\",\"DB3\",\"DB4\",\"DB5\",\"DB6\",\"DB7\",\"DD1\",\"DD2\",\"DD3\",\"DD4\",\"DD5\",\"DD6\",\"VB1\",\"VB2\",\"VB3\",\"VB4\",\"VB5\",\"VB6\",\"VB7\",\"VB8\",\"VB9\", \"VB10\",\"VB11\", \"VD1\", \"VD2\", \"VD3\", \"VD4\", \"VD5\", \"VD6\", \"VD7\", \"VD8\", \"VD9\", \"VD10\", \"VD11\", \"VD12\", \"VD13\"] \n",
    "\n",
    "# core sensory + interneuron  circuit from Wicks + LUAL and LUAR + forward motor neurons + backwards motor neurons\n",
    "# all_the_cell_names = [\"AVM\", \"AVDL\",\"AVDR\", \"AVAL\",\"AVAR\",\"AVBL\",\"AVBR\",\"ALML\",\"ALMR\",\"PLML\",\"PLMR\",\"PVCL\",\"PVCR\",\"PVDL\",\"PVDR\",\"DVA\",\"LUAL\",\"LUAR\", \"DB1\",\"DB2\",\"DB3\",\"DB4\",\"DB5\",\"DB6\",\"DB7\",\"DD1\",\"DD2\",\"DD3\",\"DD4\",\"DD5\",\"DD6\",\"VB1\",\"VB2\",\"VB3\",\"VB4\",\"VB5\",\"VB6\",\"VB7\",\"VB8\",\"VB9\", \"VB10\",\"VB11\", \"VD1\", \"VD2\", \"VD3\", \"VD4\", \"VD5\", \"VD6\", \"VD7\", \"VD8\", \"VD9\", \"VD10\", \"VD11\", \"VD12\", \"VD13\", \"DA1\",\"DA2\",\"DA3\",\"DA4\",\"DA5\",\"DA6\",\"DA7\",\"DA8\",\"DA9\",\"VA1\",\"VA2\",\"VA3\",\"VA4\",\"VA5\",\"VA6\",\"VA7\",\"VA8\",\"VA9\",\"VA10\",\"VA11\",\"VA12\", \"AS1\",\"AS2\",\"AS3\",\"AS4\",\"AS5\",\"AS6\",\"AS7\",\"AS8\",\"AS9\",\"AS10\",\"AS11\"]\n",
    "\n",
    "l = len(all_the_cell_names)\n",
    "indices = range(l)"
   ]
  },
  {
   "cell_type": "markdown",
   "metadata": {},
   "source": [
    "Different commented out variables here have different subsets of neurons that are commented in or out, depending on what combinations of neuron you want to explore computationally.  The first set has all the neurons, but is also the most computationally expensive, meaning your machine may run for an hour or more before returning any results at all.  Other subsets will return results more quickly but will also be less informative.\n",
    "\n",
    "### OpenWorm Editorial\n",
    "\n",
    "This is a simple solution to a more general problem of managing the myriad information that is included about these neurons.  OpenWorm's solution to this problem is [PyOpenWorm](http://github.com/openworm/PyOpenWorm).  Rather than enumerating every neuron present, PyOpenWorm provides an abstraction layer over top of the nervous system information that allows for the user to use a higher level API to do similar things.  That said, currently PyOpenWorm introduces [too](https://github.com/openworm/PyOpenWorm/issues/42) [much](https://github.com/openworm/PyOpenWorm/issues/90) of a performance bottleneck for an application like this; it needs to be sped up significantly."
   ]
  },
  {
   "cell_type": "markdown",
   "metadata": {},
   "source": [
    "Next, there is the set up of a lot of lists that are going to be populated by functions further down that relate to the connectome:"
   ]
  },
  {
   "cell_type": "code",
   "execution_count": null,
   "metadata": {
    "collapsed": true
   },
   "outputs": [],
   "source": [
    "coords = [] # list of 3D coordinates of all the neurons\n",
    "cells_connections = {} # synaptic\n",
    "cells_gaps = {} # gap junctional\n",
    "\n",
    "connection_nums = {} # synaptic connection nums dict\n",
    "gap_nums = {} # gap junction connection nums dict\n",
    "\n",
    "GABA_adjacency = {} # synaptic connection nums dict specific to GABA\n",
    "Chol_adjacency = {} # synaptic connection nums dict specific to Acetylcholine\n",
    "Glut_adjacency = {} # synaptic connection nums dict specific to Glutamate\n",
    "Other_adjacency = {} # synaptic connection nums dict specific to Other\n",
    "GABA_Chol_Glut_adjacency = {} # synaptic connection nums dict including everything except \"Other\"\n",
    "\n",
    "GABA_expressing = [] # list of pre-synaptic cells expressing GABA\n",
    "Cholinergic = [] # list of pre-synaptic cells expressing Acetylcholine\n",
    "Glutamatergic = [] # list of pre-synaptic cells expressing Glutamate\n",
    "labeled_neuron = \"PLML\" # give a particular neuron a different color\n",
    "coords_of_labeled_neuron = (None, None, None)"
   ]
  },
  {
   "cell_type": "markdown",
   "metadata": {},
   "source": [
    "## Simulation parameters"
   ]
  },
  {
   "cell_type": "code",
   "execution_count": 13,
   "metadata": {
    "collapsed": true
   },
   "outputs": [],
   "source": [
    "# params of the simulation\n",
    "I_ext_magnitude = 0.5 * 1e-12 # external current in units of Amperes\n",
    "stim_dur = 0.5\n",
    "stim_start = 0.5\n",
    "start_time = 0.0\n",
    "end_time = 1.5\n",
    "\n",
    "# which neurons get external current input\n",
    "I_ext_mask = [1.0 if all_the_cell_names[i] in [\"PLML\", \"PLMR\"] else 0.0 for i in indices] "
   ]
  },
  {
   "cell_type": "markdown",
   "metadata": {},
   "source": [
    "## Dynamical parameters."
   ]
  },
  {
   "cell_type": "code",
   "execution_count": null,
   "metadata": {
    "collapsed": true
   },
   "outputs": [],
   "source": [
    "\n",
    "enhanced_synaptic_steepness = 8.0 # Important -- set this to > 1 to increase the nonlinearity: it appears to be effectively set to 1.0, however, in the Kunert and Wicks papers\n",
    "K = -4.39 * enhanced_synaptic_steepness # pre-factor in the exponential synapse activation\n",
    "G_c = 100.0 * 1e-12 # cell membrane conductance (S)\n",
    "C = 10.0 * 1e-12 # cell membrane capacitance (F)\n",
    "g_syn = 10.0 * 1e-12 # synaptic conductance (S)\n",
    "g_gap = 5.0 * 1e-12 # gap junctional conductance (S)\n",
    "G_c_over_C = G_c/C\n",
    "g_syn_over_C = g_syn/C\n",
    "g_gap_over_C = g_gap/C\n",
    "E_c = [-35.0 * 1e-3 for i in indices] # -35 mV leakage potentials\n",
    "V_range = 35.0 * 1e-3 # 35 mV range\n",
    "relative_GABA = 0.5 # relative strength of GABA compared to Glut and Chol synapses"
   ]
  },
  {
   "cell_type": "markdown",
   "metadata": {},
   "source": [
    "## Main loop"
   ]
  },
  {
   "cell_type": "code",
   "execution_count": null,
   "metadata": {
    "collapsed": true
   },
   "outputs": [],
   "source": [
    "def main():          \n",
    "    # get each cell's soma coords\n",
    "    importData()\n",
    "    \n",
    "    # read connectivity data\n",
    "    readSynapticConnectome()\n",
    "    readGapConnectome()\n",
    "    \n",
    "    # plot the connectome in 3D\n",
    "    plotConnectomeIn3D()\n",
    "    \n",
    "    # plot adjacency matrices\n",
    "    buildAdjacency()\n",
    "    plotAdjacency()\n",
    "    \n",
    "    # calculate IV curves: this takes a long time so it is usually commented\n",
    "    # plotIVcurves()\n",
    "    \n",
    "    # integrate the ODEs\n",
    "    soln = integrateODEs(1)\n",
    "    \n",
    "    # plot the states of the synaptic parameters\n",
    "    fig = plt.figure()\n",
    "    plt.xlabel(\"Voltage (V)\")\n",
    "    plt.ylabel(\"Relative pre-synaptic activation || Time (au)\")\n",
    "    plt.title(\"Comparison of voltages to synaptic activations\")\n",
    "    V_eq = findEquilibriumPotentials()\n",
    "    V_vals_to_plot = np.linspace(-50 * 1e-3, 0.0 * 1e-3, num = 100, endpoint = True)\n",
    "    for k in indices:\n",
    "        plt.plot(V_vals_to_plot, [1.0/(1+np.exp(K*(V_vals_to_plot[i] - V_eq[k])/V_range)) for i in range(len(V_vals_to_plot))], color='r')\n",
    "        \n",
    "    for i in indices:\n",
    "        plt.plot([float(p) for p in soln[:,i]], [1*float(p)/len(soln[:,i]) for p in range(len(soln[:,i]))], color = 'k')\n",
    "    \n",
    "    # calculate Jacobian\n",
    "    calculateJacobian(soln)\n",
    "    \n",
    "    # run SVD\n",
    "    if len(all_the_cell_names) > 18: # this IF statement just checks to be sure there are motor neurons in the simulation to run SVD on!\n",
    "        runSVD(soln)\n",
    "    \n",
    "    # set up plots for the animation\n",
    "    #setupAnimation(soln)\n",
    "    \n",
    "    # show the plots\n",
    "    plt.show()"
   ]
  },
  {
   "cell_type": "markdown",
   "metadata": {},
   "source": [
    "The rest of the code (still translating into notebook-style):"
   ]
  },
  {
   "cell_type": "code",
   "execution_count": null,
   "metadata": {
    "collapsed": true
   },
   "outputs": [],
   "source": [
    "\n",
    "def integrateODEs(ext_on):    \n",
    "    print \"\\nIntegrating ODEs...\"\n",
    "    \n",
    "    # inputs to the simulation\n",
    "    t  = np.linspace(start_time, end_time, num = 500, endpoint = True)\n",
    "    V_eq = findEquilibriumPotentials()\n",
    "    F_ext = [ext_on * (I_ext_magnitude / C) * I_ext_mask[i] for i in indices]\n",
    "    \n",
    "    if os.path.isfile(\"ode_soln.p\") and usePickle: # delete this file if you want it to run from scratch\n",
    "        soln = pickle.load(open(\"ode_soln.p\", \"rb\" ))\n",
    "    else:\n",
    "        soln = odeint(deriv, np.array(V_eq), t, args = (F_ext,V_eq, stim_dur, stim_start),  mxstep = 5000) # system starts in equilibrium at time zero\n",
    "        pickle.dump(soln, open(\"ode_soln.p\", \"wb\" ))\n",
    "    \n",
    "    # plot the ODE solutions\n",
    "    fig = plt.figure()\n",
    "    ax = fig.gca(projection='3d')\n",
    "    ax.set_title(\"V_m (V)\")\n",
    "    plt.xlabel(\"Time (s)\")\n",
    "    plt.ylabel(\"Cell\")\n",
    "    for i in indices[::-1]:\n",
    "        plt.plot(t, [i for q in range(len(t))], [float(p) for p in soln[:,i]], lw=1.5)\n",
    "        \n",
    "    fig = plt.figure()\n",
    "    ax = fig.gca(projection='3d')\n",
    "    ax.set_title(\"V_m - V_eq (V)\")\n",
    "    plt.xlabel(\"Time (s)\")\n",
    "    plt.ylabel(\"Cell\")\n",
    "    for i in indices[::-1]:\n",
    "        plt.plot(t, [i for q in range(len(t))], [float(p) - float(V_eq[i]) for p in soln[:,i]], lw=1.5)\n",
    "        \n",
    "    fig = plt.figure()\n",
    "    plt.xlabel(\"Time (s)\")\n",
    "    plt.ylabel(\"Cell\")\n",
    "    plt.ylim(0,len(indices))\n",
    "    ax = fig.gca()\n",
    "    ax.pcolor(soln.T)\n",
    "    ax.set_xticks([0, soln.T.shape[1]])\n",
    "    ax.set_xticklabels([0, t[-1]])\n",
    "        \n",
    "    return soln\n",
    "    \n"
   ]
  },
  {
   "cell_type": "code",
   "execution_count": null,
   "metadata": {
    "collapsed": true
   },
   "outputs": [],
   "source": [
    "def deriv(vect,t, F_ext, V_eq, stim_dur, stim_start):\n",
    "    '''This function defines the particular set of ODEs used in the simulation. See the documentation for odeint.'''\n",
    "    \n",
    "    # -45 mV reversal potential for GABA inhibitory synapses, 0 mV for excitatory\n",
    "    reversal = [-45 * 1e-3 if all_the_cell_names[i] in GABA_expressing else 0.0 for i in indices] \n",
    "    V = list(vect) # prefer working with lists rather than numpy arrays internally\n",
    "            \n",
    "    # compute the gap junction input current        \n",
    "    I_gap = [sum([g_gap_over_C * gap_nums[all_the_cell_names[j]][all_the_cell_names[i]] \\\n",
    "    * (V[i]-V[j]) for j in indices]) for i in indices]\n",
    "    \n",
    "    # compute the synaptic input current\n",
    "    I_syn = [sum([g_syn_over_C * GABA_Chol_Glut_adjacency[all_the_cell_names[j]][all_the_cell_names[i]] \\\n",
    "    * (V[i]-reversal[j])/(1 + np.exp(K*(V[j] - V_eq[j])/V_range)) for j in indices]) for i in indices]\n",
    "    \n",
    "    # compute the temporal derivatives\n",
    "    combined = [G_c_over_C*(E_c[i]-V[i]) - I_gap[i] - I_syn[i] + F_ext[i] \\\n",
    "    * (1.0 if t < (stim_start + stim_dur) and t > stim_start else 0.0) for i in indices]\n",
    "    \n",
    "    return np.array(combined)\n",
    "    \n"
   ]
  },
  {
   "cell_type": "code",
   "execution_count": null,
   "metadata": {
    "collapsed": true
   },
   "outputs": [],
   "source": [
    "def plotIVcurves():\n",
    "    print \"\\nCalculating IV curves...\"\n",
    "    t  = np.linspace(0.0, 2.0, num = 2, endpoint = True)\n",
    "    V_eq = findEquilibriumPotentials()\n",
    "    stim_dur = 10\n",
    "    stim_start = 0.0\n",
    "    range_of_currents = np.linspace(-50,50, num = 20, endpoint = True)\n",
    "    \n",
    "    fig = plt.figure()\n",
    "    ax = fig.gca(projection='3d')\n",
    "    ax.set_title(\"Steady-State Voltage (V)\")\n",
    "    plt.xlabel(\"Injected Current (pA)\")\n",
    "    plt.ylabel(\"Cell\")\n",
    "    \n",
    "    for k in indices[::-1]:\n",
    "        Vvals = []\n",
    "        I_ext_mask = [1.0 if i == k else 0.0 for i in indices] # select which neurons get external current input\n",
    "        for external_current_input in range_of_currents: # this is in units of G_c\n",
    "            I_ext_magnitude = external_current_input * 1.0e-12 # external current in units of Amperes\n",
    "            F_ext = [(I_ext_magnitude / C) * I_ext_mask[i] for i in indices] # external contribution to voltage dynamics\n",
    "            # system starts in equilibrium at time zero\n",
    "            soln = odeint(deriv, np.array(V_eq), t, args = (F_ext,V_eq, stim_dur, stim_start),  mxstep = 5000)\n",
    "            steady_state_voltages = [float(p) for p in soln[-1,:]]\n",
    "            Vvals.append(steady_state_voltages[k])\n",
    "        plt.plot(range_of_currents,[k for m in range_of_currents], Vvals, lw=3.5)\n",
    "        \n"
   ]
  },
  {
   "cell_type": "code",
   "execution_count": null,
   "metadata": {
    "collapsed": true
   },
   "outputs": [],
   "source": [
    "def findEquilibriumPotentials():\n",
    "    # -48 mV reversal potential for GABA inhibitory synapses, 0 mV for excitatory\n",
    "    reversal = [-45 * 0.001 if all_the_cell_names[i] in GABA_expressing else 0.0 for i in indices] \n",
    "    conn = GABA_Chol_Glut_adjacency\n",
    "    gap = gap_nums\n",
    "    names = all_the_cell_names\n",
    "    AList = [[None for j in indices] for i in indices]\n",
    "    bList = [E_c[i] + sum([(g_syn_over_C/G_c_over_C) * conn[names[j]][names[i]] * reversal[j]/2.0 for j in indices]) for i in indices]\n",
    "\n",
    "    for i in indices:\n",
    "        AList[i][i] = 1 + sum([(g_gap_over_C/G_c_over_C) * gap[names[j]][names[i]] \\\n",
    "        + (g_syn_over_C/G_c_over_C) * conn[names[j]][names[i]]/2.0 for j in indices])\n",
    "\n",
    "    for i in indices:\n",
    "        for j in indices:\n",
    "            if j != i:\n",
    "                AList[i][j] = -1 * (g_gap_over_C/G_c_over_C) * gap[names[j]][names[i]]\n",
    "\n",
    "    AMatrix = np.matrix(AList)\n",
    "    bVector = np.matrix(bList).T # column vector\n",
    "    return [float(k) for k in np.dot(AMatrix.I, bVector)] # convert to list\n",
    "\n"
   ]
  },
  {
   "cell_type": "code",
   "execution_count": null,
   "metadata": {
    "collapsed": true
   },
   "outputs": [],
   "source": [
    "def calculateJacobian(soln):\n",
    "    print \"Calculating Jacobian...\"\n",
    "    # -45 mV reversal potential for GABA inhibitory synapses, 0 mV for excitatory\n",
    "    reversal = [-45 * 0.001 if all_the_cell_names[i] in GABA_expressing else 0.0 for i in indices] \n",
    "    conn = GABA_Chol_Glut_adjacency\n",
    "    gap = gap_nums\n",
    "    names = all_the_cell_names\n",
    "    V = [np.mean(soln.T[i][len(soln.T[i])/2:]) for i in indices]\n",
    "    V_eq = findEquilibriumPotentials()\n",
    "    \n",
    "    J = [[0 for j in indices] for i in indices]\n",
    "    \n",
    "    for i in indices: # here we hand-calculate the Jacobian matrix\n",
    "        J[i][i] = -1 * ((sum([g_gap_over_C * gap[names[j]][names[i]] \\\n",
    "        + g_syn_over_C * conn[names[j]][names[i]]/(1 + np.exp(K*(V[j] - V_eq[j])/V_range)) for j in indices])) + G_c_over_C)\n",
    "        \n",
    "        for j in indices:\n",
    "            if j != i:\n",
    "                J[i][j] = g_gap_over_C * gap[names[j]][names[i]] \\\n",
    "                + g_syn_over_C * conn[names[j]][names[i]] * (reversal[j] - V[i]) * (K/V_range) \\\n",
    "                * ((1/(1+np.exp(K*(V[j] - V_eq[j])/V_range)))**2) * np.exp(K*(V[j] - V_eq[j])/V_range) \n",
    "    \n",
    "    # plot the complex eigenvalues of the Jacobian matrix\n",
    "    fig = plt.figure()\n",
    "    J_matrix = np.matrix(J)\n",
    "    eigenvalues = np.linalg.eig(J_matrix)\n",
    "    reals = eigenvalues[0].real\n",
    "    imags = eigenvalues[0].imag\n",
    "    \n",
    "    plt.title(\"Eigenvalues of Jacobian at the externally-forced equilbrium\")\n",
    "    plt.xlabel(\"Real Part\")\n",
    "    plt.ylabel(\"Imaginary Part\")\n",
    "    plt.vlines([0], -80, 80, linewidth = 5)\n",
    "    plt.scatter(reals, imags, s = 85)\n",
    "    \n"
   ]
  },
  {
   "cell_type": "code",
   "execution_count": null,
   "metadata": {
    "collapsed": true
   },
   "outputs": [],
   "source": [
    "def readGapConnectome():\n",
    "    for k1 in all_the_cell_names:\n",
    "        gap_nums[k1] = {}\n",
    "        for k2 in all_the_cell_names:\n",
    "            gap_nums[k1][k2] = 0.0\n",
    "    \n",
    "    with open(connectome_spreadsheet, 'rU') as f:\n",
    "        r = csv.reader(f)\n",
    "        for row in r:\n",
    "            if row[2] != \"Send\":\n",
    "                if row[0] in all_the_cell_names and row[1] in all_the_cell_names:\n",
    "                    cells_gaps[row[0]].append(row[1])\n",
    "                    gap_nums[row[0]][row[1]] = float(row[3])\n",
    "    \n"
   ]
  },
  {
   "cell_type": "code",
   "execution_count": null,
   "metadata": {
    "collapsed": true
   },
   "outputs": [],
   "source": [
    "def readSynapticConnectome():\n",
    "    for k1 in all_the_cell_names:\n",
    "        connection_nums[k1] = {}\n",
    "        for k2 in all_the_cell_names:\n",
    "            connection_nums[k1][k2] = 0.0\n",
    "    \n",
    "    with open(connectome_spreadsheet, 'rU') as f:\n",
    "        r = csv.reader(f)\n",
    "        for row in r:\n",
    "            if row[2] == \"Send\":\n",
    "                if row[0] in all_the_cell_names and row[1] in all_the_cell_names:\n",
    "                    cells_connections[row[0]].append(row[1])\n",
    "                    connection_nums[row[0]][row[1]] = float(row[3])\n",
    "                    if \"GABA\" in row[4] and not row[0] in GABA_expressing:\n",
    "                        GABA_expressing.append(row[0])\n",
    "                    if \"Acetylcholine\" in row[4] and not row[0] in Cholinergic:\n",
    "                        Cholinergic.append(row[0])\n",
    "                    if \"Glutamate\"  in row[4] and not row[0] in Glutamatergic:\n",
    "                        Glutamatergic.append(row[0])\n",
    "\n"
   ]
  },
  {
   "cell_type": "code",
   "execution_count": null,
   "metadata": {
    "collapsed": true
   },
   "outputs": [],
   "source": [
    "def getSegmentIds(cell): # from OpenWorm code\n",
    "    seg_ids = []\n",
    "    for segment in cell.morphology.segments:\n",
    "        seg_ids.append(segment.id)\n",
    "\n",
    "    return seg_ids\n",
    "\n"
   ]
  },
  {
   "cell_type": "code",
   "execution_count": null,
   "metadata": {
    "collapsed": true
   },
   "outputs": [],
   "source": [
    "def get3DPosition(cell, segment_index, fraction_along): # from OpenWorm code\n",
    "    seg = cell.morphology.segments[segment_index]\n",
    " \n",
    "    end = seg.distal\n",
    "\n",
    "    start = seg.proximal\n",
    "    if start is None:\n",
    "        segs = getSegmentIds(cell)\n",
    "        seg_index_parent = segs.index(seg.parent.segments)\n",
    "        start = cell.morphology.segments[seg_index_parent].distal\n",
    "\n",
    "    fx = fract(start.x, end.x, fraction_along)\n",
    "    fy = fract(start.y, end.y, fraction_along)\n",
    "    fz = fract(start.z, end.z, fraction_along)\n",
    "\n",
    "    return fx, fy, fz\n",
    "\n"
   ]
  },
  {
   "cell_type": "code",
   "execution_count": null,
   "metadata": {
    "collapsed": true
   },
   "outputs": [],
   "source": [
    "def fract(a, b, f): # from OpenWorm code\n",
    "    return a+(b-a)*f\n",
    "    \n"
   ]
  },
  {
   "cell_type": "code",
   "execution_count": null,
   "metadata": {
    "collapsed": true
   },
   "outputs": [],
   "source": [
    "def importData():\n",
    "    for cellName in all_the_cell_names:\n",
    "        inFile = \"OpenWorm/straightenedNeuroML2/\" + cellName + \".nml\"\n",
    "\n",
    "        # open the cell\n",
    "        doc = loaders.NeuroMLLoader.load(inFile)\n",
    "        if not doc.cells:\n",
    "            sys.exit(1)\n",
    "        cell = doc.cells[0]\n",
    "\n",
    "        # find the soma coordinates\n",
    "        c = get3DPosition(cell, 0, 0.5)\n",
    "        if cellName == labeled_neuron:\n",
    "            coords_of_labeled_neuron = c\n",
    "        coords.append(c)\n",
    "        cells_connections[cellName] = [c]\n",
    "        cells_gaps[cellName] = [c]\n",
    "    \n"
   ]
  },
  {
   "cell_type": "code",
   "execution_count": null,
   "metadata": {
    "collapsed": true
   },
   "outputs": [],
   "source": [
    "def plotConnectomeIn3D():\n",
    "    # set up the plot\n",
    "    fig = plt.figure()\n",
    "    ax = fig.gca(projection='3d')\n",
    "    ax.set_xlim3d(-30,30)\n",
    "    ax.set_ylim3d(-400,400)\n",
    "    ax.set_zlim3d(-30,30)\n",
    "    plt.xlabel(\"x ($\\mu$m)\")\n",
    "    plt.ylabel(\"y ($\\mu$m)\")\n",
    "    \n",
    "    # plot the synaptic connections in 3D\n",
    "    k = cells_connections.keys()\n",
    "    for key in k:\n",
    "        s = cells_connections[key][0]    \n",
    "        end_coords_list = [cells_connections[p][0] for p in cells_connections[key][1:]]\n",
    "        for i in range(len(end_coords_list)):\n",
    "            e = end_coords_list[i]\n",
    "            p = cells_connections[key][1:][i]\n",
    "            num = float(connection_nums[key][p])\n",
    "            if key in GABA_expressing:\n",
    "                ax.plot([s[0], e[0]], [s[1], e[1]], [s[2], e[2]], color='r', linestyle='dashed', linewidth = num)\n",
    "            elif key in Cholinergic:\n",
    "                pass\n",
    "                ax.plot([s[0], e[0]], [s[1], e[1]], [s[2], e[2]], color='g', linestyle='dashed', linewidth = num/3)\n",
    "            elif key in Glutamatergic:\n",
    "                pass\n",
    "                ax.plot([s[0], e[0]], [s[1], e[1]], [s[2], e[2]], color='b', linestyle='dashed', linewidth = num/3)\n",
    "            else:\n",
    "                pass\n",
    "                ax.plot([s[0], e[0]], [s[1], e[1]], [s[2], e[2]], color='m', linestyle='dashed', linewidth = num/3)\n",
    "            \n",
    "    # plot the gap junctions in 3D\n",
    "    k = cells_gaps.keys()\n",
    "    for key in k:\n",
    "        s = cells_gaps[key][0]\n",
    "        end_coords_list = [cells_gaps[p][0] for p in cells_gaps[key][1:]]\n",
    "        for i in range(len(end_coords_list)):\n",
    "            e = end_coords_list[i]\n",
    "            p = cells_gaps[key][1:][i]\n",
    "            num = float(gap_nums[key][p])\n",
    "            ax.plot([s[0], e[0]], [s[1], e[1]], [s[2], e[2]], color='k', linestyle='dotted', linewidth = num/3)\n",
    "            \n",
    "    # plot the soma coordinates in 3D\n",
    "    ax.plot([c[0] for c in coords], [c[1] for c in coords], [c[2] for c in coords], 'o', color='k', alpha=1)\n",
    "            \n",
    "    # plot the labeled neuron in 3D\n",
    "    ax.plot([coords_of_labeled_neuron[0]], [coords_of_labeled_neuron[1]], [coords_of_labeled_neuron[2]], 'o', color='y',ms=10.0, alpha=1)\n",
    "    \n"
   ]
  },
  {
   "cell_type": "code",
   "execution_count": null,
   "metadata": {
    "collapsed": true
   },
   "outputs": [],
   "source": [
    "def buildAdjacency():\n",
    "    # initialize the adjacency matrices\n",
    "       for k1 in all_the_cell_names:\n",
    "            GABA_adjacency[k1] = {}\n",
    "            Chol_adjacency[k1] = {}\n",
    "            Glut_adjacency[k1] = {}\n",
    "            Other_adjacency[k1] = {}\n",
    "            GABA_Chol_Glut_adjacency[k1] = {}\n",
    "            for k2 in all_the_cell_names:\n",
    "                GABA_adjacency[k1][k2] = 0\n",
    "                Chol_adjacency[k1][k2] = 0\n",
    "                Glut_adjacency[k1][k2] = 0\n",
    "                Other_adjacency[k1][k2] = 0\n",
    "                \n",
    "       # populate adjacency matrices\n",
    "       for k1 in all_the_cell_names:\n",
    "           for k2 in all_the_cell_names:\n",
    "               if k1 in GABA_expressing:\n",
    "                   GABA_adjacency[k1][k2] = relative_GABA * connection_nums[k1][k2] # setting the relative strength of inhibition here\n",
    "               elif k1 in Cholinergic:\n",
    "                   Chol_adjacency[k1][k2] = connection_nums[k1][k2]\n",
    "               elif k1 in Glutamatergic:\n",
    "                   Glut_adjacency[k1][k2] = connection_nums[k1][k2]\n",
    "               else:\n",
    "                   Other_adjacency[k1][k2] = connection_nums[k1][k2]\n",
    "               # this matrix just includes GABAergic, Cholinergic and Glutamatergic synapses\n",
    "               GABA_Chol_Glut_adjacency[k1][k2] = GABA_adjacency[k1][k2] + Chol_adjacency[k1][k2] + Glut_adjacency[k1][k2] + Other_adjacency[k1][k2] \n",
    "               \n"
   ]
  },
  {
   "cell_type": "code",
   "execution_count": null,
   "metadata": {
    "collapsed": true
   },
   "outputs": [],
   "source": [
    "def plotAdjacency():\n",
    "       # plot the transmitter-specific adjacency matrices\n",
    "       # note: this treats e.g. \"Serotonin_Acetylcholine\" in the spreadsheet as \"Acetylcholine\"\n",
    "       \n",
    "       pointSizeScaleFactor = 10\n",
    "       \n",
    "       # Adjacency matrix for GABA\n",
    "       fig = plt.figure()\n",
    "       plt.xlim(0 - pointSizeScaleFactor, len(all_the_cell_names) + pointSizeScaleFactor) \n",
    "       plt.ylim(0 - pointSizeScaleFactor, len(all_the_cell_names) + pointSizeScaleFactor)\n",
    "       plt.xlabel(\"Input Cell\")\n",
    "       plt.ylabel(\"Ouput Cell\")\n",
    "       ax = fig.gca()\n",
    "       ax.set_title(\"GABA\")\n",
    "       xvals = []\n",
    "       yvals = []\n",
    "       sizes = []\n",
    "       for i in range(len(all_the_cell_names)):\n",
    "           for j in range(len(all_the_cell_names)):\n",
    "               if GABA_adjacency[all_the_cell_names[i]][all_the_cell_names[j]] > 0:\n",
    "                   xvals.append(i)\n",
    "                   yvals.append(j)\n",
    "                   sizes.append(pointSizeScaleFactor*float(GABA_adjacency[all_the_cell_names[i]][all_the_cell_names[j]]))\n",
    "       plt.scatter(xvals, yvals, s = sizes, c = 'r')\n",
    "\n",
    "       # Adjacency matrix for Acetylcholine\n",
    "       fig = plt.figure()\n",
    "       plt.xlim(0 - pointSizeScaleFactor, len(all_the_cell_names) + pointSizeScaleFactor) \n",
    "       plt.ylim(0 - pointSizeScaleFactor, len(all_the_cell_names) + pointSizeScaleFactor)\n",
    "       plt.xlabel(\"Input Cell\")\n",
    "       plt.ylabel(\"Ouput Cell\")\n",
    "       ax = fig.gca()\n",
    "       ax.set_title(\"Acetylcholine\")\n",
    "       xvals = []\n",
    "       yvals = []\n",
    "       sizes = []\n",
    "       for i in range(len(all_the_cell_names)):\n",
    "           for j in range(len(all_the_cell_names)):\n",
    "               if Chol_adjacency[all_the_cell_names[i]][all_the_cell_names[j]] > 0:\n",
    "                   xvals.append(i)\n",
    "                   yvals.append(j)\n",
    "                   sizes.append(pointSizeScaleFactor*float(Chol_adjacency[all_the_cell_names[i]][all_the_cell_names[j]]))\n",
    "       plt.scatter(xvals, yvals, s = sizes, c = 'g')\n",
    "\n",
    "       # Adjacency matrix for Glutamate\n",
    "       fig = plt.figure()\n",
    "       plt.xlim(0 - pointSizeScaleFactor, len(all_the_cell_names) + pointSizeScaleFactor) \n",
    "       plt.ylim(0 - pointSizeScaleFactor, len(all_the_cell_names) + pointSizeScaleFactor)\n",
    "       plt.xlabel(\"Input Cell\")\n",
    "       plt.ylabel(\"Ouput Cell\")\n",
    "       ax = fig.gca()\n",
    "       ax.set_title(\"Glutamate\")\n",
    "       xvals = []\n",
    "       yvals = []\n",
    "       sizes = []\n",
    "       for i in range(len(all_the_cell_names)):\n",
    "           for j in range(len(all_the_cell_names)):\n",
    "               if Glut_adjacency[all_the_cell_names[i]][all_the_cell_names[j]] > 0:\n",
    "                   xvals.append(i)\n",
    "                   yvals.append(j)\n",
    "                   sizes.append(pointSizeScaleFactor*float(Glut_adjacency[all_the_cell_names[i]][all_the_cell_names[j]]))\n",
    "       plt.scatter(xvals, yvals, s = sizes, c = 'b')    \n",
    "\n",
    "       # Adjacency matrix for other neurotransmitters\n",
    "       fig = plt.figure()\n",
    "       plt.xlim(0 - pointSizeScaleFactor, len(all_the_cell_names) + pointSizeScaleFactor) \n",
    "       plt.ylim(0 - pointSizeScaleFactor, len(all_the_cell_names) + pointSizeScaleFactor)\n",
    "       plt.xlabel(\"Input Cell\")\n",
    "       plt.ylabel(\"Ouput Cell\")\n",
    "       ax = fig.gca()\n",
    "       ax.set_title(\"Other Transmitter (Serotonin, Dopamine, etc.)\")\n",
    "       xvals = []\n",
    "       yvals = []\n",
    "       sizes = []\n",
    "       for i in range(len(all_the_cell_names)):\n",
    "           for j in range(len(all_the_cell_names)):\n",
    "               if Other_adjacency[all_the_cell_names[i]][all_the_cell_names[j]] > 0:\n",
    "                   xvals.append(i)\n",
    "                   yvals.append(j)\n",
    "                   sizes.append(pointSizeScaleFactor*float(Other_adjacency[all_the_cell_names[i]][all_the_cell_names[j]]))\n",
    "       plt.scatter(xvals, yvals, s = sizes, c = 'm')\n",
    "\n",
    "       # Adjacency matrix for gap junctions\n",
    "       fig = plt.figure()\n",
    "       plt.xlim(0 - pointSizeScaleFactor, len(all_the_cell_names) + pointSizeScaleFactor) \n",
    "       plt.ylim(0 - pointSizeScaleFactor, len(all_the_cell_names) + pointSizeScaleFactor)\n",
    "       plt.xlabel(\"Input Cell\")\n",
    "       plt.ylabel(\"Ouput Cell\")\n",
    "       ax = fig.gca()\n",
    "       ax.set_title(\"Gap Junctions\")\n",
    "       xvals = []\n",
    "       yvals = []\n",
    "       sizes = []                \n",
    "       for i in range(len(all_the_cell_names)):\n",
    "           for j in range(len(all_the_cell_names)):\n",
    "               if gap_nums[all_the_cell_names[i]][all_the_cell_names[j]] > 0:\n",
    "                   xvals.append(i)\n",
    "                   yvals.append(j)\n",
    "                   sizes.append(pointSizeScaleFactor*float(gap_nums[all_the_cell_names[i]][all_the_cell_names[j]]))\n",
    "       plt.scatter(xvals, yvals, s = sizes, c = 'k')\n",
    "       \n"
   ]
  },
  {
   "cell_type": "code",
   "execution_count": null,
   "metadata": {
    "collapsed": true
   },
   "outputs": [],
   "source": [
    "def runSVD(soln):\n",
    "    print \"SVD analysis...\"\n",
    "    motor_neuron_indices = indices[18:] # the first 18 neurons are the sensory neurons and interneurons\n",
    "    # Time-slices of motor neurons, starting halfway through the simulation to allow the initial transients to settle\n",
    "    M = np.matrix([[k - np.mean(soln.T[i][len(soln.T[i])/2:]) for k in soln.T[i][len(soln.T[i])/2:]] for i in motor_neuron_indices]) \n",
    "    print M\n",
    "    U, S, V = np.linalg.svd(M)\n",
    "    fig = plt.figure()\n",
    "    plt.xlabel(\"Mode number\")\n",
    "    plt.ylabel(\"Fractional contribution\")\n",
    "    plt.title(\"Singular values\")\n",
    "    plt.xlim(0, len(S)+1)\n",
    "    plt.ylim(0,1)\n",
    "    plt.scatter(range(1,len(S)+1),[p for p in S]/sum([q for q in S]), s=50)\n",
    "    \n",
    "    # plot the dynamics of the modes\n",
    "    firstmode_vec = U[:,0]/np.linalg.norm(U[:,0])\n",
    "    secondmode_vec = U[:,1]/np.linalg.norm(U[:,1])\n",
    "    thirdmode_vec = U[:,2]/np.linalg.norm(U[:,2])\n",
    "    \n",
    "    # plot the modes as vectors\n",
    "    fig = plt.figure()\n",
    "    plt.title(\"Mode vectors\")\n",
    "    plt.xlabel(\"Motor neuron number\")\n",
    "    plt.ylabel(\"Mode weight on neuron\")\n",
    "    plt.plot([p[(0,0)] for p in firstmode_vec], linewidth = 3, marker = 'o', markersize = 15)\n",
    "    plt.plot([p[(0,0)] for p in secondmode_vec], linewidth = 3, marker = 'o', markersize = 15)\n",
    "    plt.plot([p[(0,0)] for p in thirdmode_vec], linewidth = 3, marker = 'o', markersize = 15)\n",
    "    \n",
    "    a1 = []\n",
    "    a2 = []\n",
    "    a3 = []\n",
    "    for i in range(np.shape(M)[1]):\n",
    "        timeslice = M[:,i]\n",
    "        a1.append((timeslice.T * firstmode_vec)[(0,0)])\n",
    "        a2.append((timeslice.T * secondmode_vec)[(0,0)])\n",
    "        a3.append((timeslice.T * thirdmode_vec)[(0,0)])\n",
    "        \n",
    "    fig = plt.figure()\n",
    "    plt.title(\"Shapes of the first three modes\")\n",
    "    plt.xlabel(\"Time (au)\")\n",
    "    plt.ylabel(\"Mode amplitude (au)\")\n",
    "    plt.plot(a1, linewidth = 2)\n",
    "    plt.plot(a2, linewidth = 2)\n",
    "    plt.plot(a3, linewidth = 2)\n",
    "    plt.figure()\n",
    "    plt.title(\"Mode phase space evolution\")\n",
    "    plt.xlabel(\"Mode\")\n",
    "    plt.ylabel(\"Mode\")\n",
    "    plt.plot(a1, a2, linewidth = 1)\n",
    "    \n"
   ]
  },
  {
   "cell_type": "code",
   "execution_count": null,
   "metadata": {
    "collapsed": true
   },
   "outputs": [],
   "source": [
    "def setupAnimation(soln):\n",
    "    print \"Animation...\"\n",
    "    fig = plt.figure()\n",
    "    ax = fig.gca(projection='3d')\n",
    "    ax.set_xlim3d(-30,30)\n",
    "    ax.set_ylim3d(-400,400)\n",
    "    ax.set_zlim3d(-30,30)\n",
    "    plt.xlabel(\"x ($\\mu$m)\")\n",
    "    plt.ylabel(\"y ($\\mu$m)\")\n",
    "    \n",
    "    # animate the activity\n",
    "    lastframe = 200\n",
    "    numframes = len(soln[:lastframe,0])\n",
    "    numpoints = len(coords)\n",
    "    V_eq = findEquilibriumPotentials()\n",
    "    color_data = np.array([[10*np.abs(s[p]) for p in range(numpoints)] for s in soln[:lastframe]]) \n",
    "    scat = ax.scatter([x[0] for x in coords], [x[1] for x in coords], [x[2] for x in coords], s = 85)\n",
    "    ani = animation.FuncAnimation(fig, update_plot, frames = range(len(soln[:lastframe,0])), fargs = (color_data, scat), blit=False, interval = 1)\n",
    "\n",
    "    # save the animation to a file: need to install ffmpeg for this to work\n",
    "    # on my Mac it worked to do \"sudo port install ffmpeg\" after installing MacPorts\n",
    "    FFwriter = animation.FFMpegWriter() # write the animation to a file\n",
    "    ani.save('network_sim.mp4', writer = FFwriter, fps=1000, extra_args=['-vcodec', 'libx264'])\n",
    "\n"
   ]
  },
  {
   "cell_type": "code",
   "execution_count": null,
   "metadata": {
    "collapsed": true
   },
   "outputs": [],
   "source": [
    "def update_plot(i, data, scat):\n",
    "    scat.set_array(data[i])\n",
    "    return scat\n",
    "    \n"
   ]
  },
  {
   "cell_type": "code",
   "execution_count": null,
   "metadata": {
    "collapsed": true
   },
   "outputs": [],
   "source": [
    "if __name__ == '__main__':\n",
    "    main()"
   ]
  }
 ],
 "metadata": {
  "kernelspec": {
   "display_name": "Python 2",
   "language": "python",
   "name": "python2"
  },
  "language_info": {
   "codemirror_mode": {
    "name": "ipython",
    "version": 2
   },
   "file_extension": ".py",
   "mimetype": "text/x-python",
   "name": "python",
   "nbconvert_exporter": "python",
   "pygments_lexer": "ipython2",
   "version": "2.7.12"
  }
 },
 "nbformat": 4,
 "nbformat_minor": 0
}
