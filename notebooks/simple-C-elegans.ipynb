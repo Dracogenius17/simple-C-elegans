{
 "cells": [
  {
   "cell_type": "markdown",
   "metadata": {},
   "source": [
    "# Introduction to simple-C-elegans\n",
    "\n",
    "*original available online: https://github.com/adammarblestone/simple-C-elegans/blob/master/SimulateConnectome.py*\n",
    "\n",
    "This is essentially a single python script that simulates the nervous system of the C. elegans; with many caveats known to the authors.  The goal is purposeful simplicity to be able to demonstrate the concepts surrounding simulating a nervous system with a reasonable amount of biological detail.  This walkthrough will explain the simple-C-elegans code and how it works.  \n",
    "\n",
    "A more robust approach is being taken in the OpenWorm project that involves many pieces of infrastructure that are more sophisticated, but also less simple.  Therefore, in addition to explaining how this code works, the larger OpenWorm infrastructure that is responsible for various steps will also be explained along the way."
   ]
  },
  {
   "cell_type": "markdown",
   "metadata": {},
   "source": [
    "Comments at the top say:\n",
    "    \n",
    ">Simulates the dynamics of part or all of the C. elegans neural network.\n",
    ">This code is *deliberately simple* in order to help the user gain intuition for the qualitative properties of \n",
    "the network dynamics.\n",
    ">Key references include:\n",
    "> 1) Wicks, Stephen R., Chris J. Roehrig, and Catharine H. Rankin. \"A dynamic network simulation of the nematode tap withdrawal circuit: predictions concerning synaptic function using behavioral criteria.\" The Journal of neuroscience 16.12 (1996): 4017-4031.\n",
    "> 2) Kunert, James, Eli Shlizerman, and J. Nathan Kutz. \"Low-dimensional functionality of complex network dynamics: Neurosensory integration in the Caenorhabditis elegans connectome.\" Physical Review E 89.5 (2014): 052805.\n",
    ">3) http://www.openworm.org/ and the associated resources"
   ]
  },
  {
   "cell_type": "markdown",
   "metadata": {},
   "source": [
    "First, some practicalities.  The [sci-py libraries](https://www.scipy.org/install.html) are needed to make this run.  One particularly nice setup can be found here: https://github.com/jupyter/docker-stacks/tree/master/scipy-notebook with the setup via Docker.\n",
    "\n",
    "In addition, installing neuroml will be helpful:"
   ]
  },
  {
   "cell_type": "code",
   "execution_count": 9,
   "metadata": {
    "collapsed": false
   },
   "outputs": [
    {
     "name": "stdout",
     "output_type": "stream",
     "text": [
      "Hit http://security.debian.org jessie/updates InRelease\n",
      "Get:1 http://security.debian.org jessie/updates/main amd64 Packages [384 kB]\n",
      "Ign http://httpredir.debian.org jessie InRelease\n",
      "Hit http://httpredir.debian.org jessie-updates InRelease\n",
      "Hit http://httpredir.debian.org jessie Release.gpg\n",
      "Get:2 http://httpredir.debian.org jessie-updates/main amd64 Packages [17.6 kB]\n",
      "Hit http://httpredir.debian.org jessie Release\n",
      "Get:3 http://httpredir.debian.org jessie/main amd64 Packages [9,032 kB]\n",
      "Fetched 9,433 kB in 7s (1,197 kB/s)\n",
      "Reading package lists... Done\n",
      "Reading package lists... Done\n",
      "Building dependency tree       \n",
      "Reading state information... Done\n",
      "Note, selecting 'libxslt1-dev' instead of 'libxslt-dev'\n",
      "libxml2-dev is already the newest version.\n",
      "libxslt1-dev is already the newest version.\n",
      "0 upgraded, 0 newly installed, 0 to remove and 7 not upgraded.\n",
      "Collecting libneuroml\n",
      "  Using cached libNeuroML-0.2.18.tar.gz\n",
      "Collecting lxml (from libneuroml)\n",
      "  Using cached lxml-3.6.1.tar.gz\n",
      "Building wheels for collected packages: libneuroml, lxml\n",
      "  Running setup.py bdist_wheel for libneuroml ... \u001b[?25l-\b \b\\\b \bdone\n",
      "\u001b[?25h  Stored in directory: /home/jovyan/.cache/pip/wheels/2e/bd/8e/ce350709345890d9f5e953bf65e51ad1697006ec477cdce60d\n",
      "  Running setup.py bdist_wheel for lxml ... \u001b[?25l-\b \b\\\b \b|\b \b/\b \b-\b \b\\\b \b|\b \b/\b \bdone\n",
      "\u001b[?25h  Stored in directory: /home/jovyan/.cache/pip/wheels/17/94/a6/15a37329ef31420b401015e9929e55dc882a9346efadd27d48\n",
      "Successfully built libneuroml lxml\n",
      "Installing collected packages: lxml, libneuroml\n",
      "Successfully installed libneuroml-0.2.18 lxml-3.6.1\n"
     ]
    }
   ],
   "source": [
    "!sudo apt-get update\n",
    "!sudo apt-get install -y libxml2-dev libxslt-dev\n",
    "!pip2 install libneuroml"
   ]
  },
  {
   "cell_type": "markdown",
   "metadata": {},
   "source": [
    "After these installs, now the imports from the script should work:"
   ]
  },
  {
   "cell_type": "code",
   "execution_count": 10,
   "metadata": {
    "collapsed": false
   },
   "outputs": [
    {
     "name": "stderr",
     "output_type": "stream",
     "text": [
      "/opt/conda/envs/python2/lib/python2.7/site-packages/matplotlib/font_manager.py:273: UserWarning: Matplotlib is building the font cache using fc-list. This may take a moment.\n",
      "  warnings.warn('Matplotlib is building the font cache using fc-list. This may take a moment.')\n"
     ]
    }
   ],
   "source": [
    "import neuroml\n",
    "import neuroml.loaders as loaders\n",
    "import neuroml.writers as writers\n",
    "import matplotlib.pyplot as plt\n",
    "from mpl_toolkits.mplot3d import Axes3D\n",
    "import csv\n",
    "from scipy.integrate import odeint\n",
    "import numpy as np\n",
    "import random\n",
    "import matplotlib.animation as animation\n",
    "import time\n",
    "import pickle\n",
    "import os"
   ]
  },
  {
   "cell_type": "code",
   "execution_count": null,
   "metadata": {
    "collapsed": true
   },
   "outputs": [],
   "source": []
  }
 ],
 "metadata": {
  "kernelspec": {
   "display_name": "Python 2",
   "language": "python",
   "name": "python2"
  },
  "language_info": {
   "codemirror_mode": {
    "name": "ipython",
    "version": 2
   },
   "file_extension": ".py",
   "mimetype": "text/x-python",
   "name": "python",
   "nbconvert_exporter": "python",
   "pygments_lexer": "ipython2",
   "version": "2.7.12"
  }
 },
 "nbformat": 4,
 "nbformat_minor": 0
}
